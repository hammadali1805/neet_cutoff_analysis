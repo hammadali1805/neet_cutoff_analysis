{
 "cells": [
  {
   "cell_type": "code",
   "execution_count": 207,
   "metadata": {},
   "outputs": [],
   "source": [
    "import pandas as pd\n",
    "import numpy as np"
   ]
  },
  {
   "cell_type": "code",
   "execution_count": 208,
   "metadata": {},
   "outputs": [],
   "source": [
    "df = pd.read_csv('2022/C_R1.csv')"
   ]
  },
  {
   "cell_type": "markdown",
   "metadata": {},
   "source": [
    "courses = ['BDS', 'MBBS', 'B.Sc. Nursing']"
   ]
  },
  {
   "cell_type": "markdown",
   "metadata": {},
   "source": [
    "files = [\n",
    "    '2022/C_R1.csv',\n",
    "    '2022/C_R2.csv',\n",
    "    '2022/C_MOPUP_R1.csv',\n",
    "    '2022/C_MOPUP_R2.csv',\n",
    "    '2022/C_STRAY_R1.csv',\n",
    "    '2023/C_R1.csv',\n",
    "    '2023/C_R2.csv',\n",
    "    '2023/C_R3.csv',\n",
    "    '2023/C_STRAY_R1.csv',\n",
    "    '2023/C_STRAY_R2.csv',\n",
    "    '2023/C_STRAY_R3.csv',\n",
    "]"
   ]
  },
  {
   "cell_type": "markdown",
   "metadata": {},
   "source": [
    "quotas = ['Deemed/Paid Seats Quota',\n",
    " 'All India',\n",
    " 'Open Seat Quota',\n",
    " 'Foreign Country Quota',\n",
    " 'Non-Resident Indian',\n",
    " 'Delhi NCR Children/Widows of Personnel of the Armed Forces (CW) Quota',\n",
    " 'IP University Quota',\n",
    " 'B.Sc Nursing All India',\n",
    " 'B.Sc Nursing Delhi NCR (CW) Quota',\n",
    " 'B.Sc Nursing Delhi NCR',\n",
    " 'Aligarh Muslim University (AMU) Quota',\n",
    " 'Non-Resident Indian (AMU) Quota',\n",
    " 'Employees State Insurance Scheme (ESI)',\n",
    " 'Jamia Internal Quota',\n",
    " 'Muslim OBC Quota',\n",
    " 'Muslim Quota',\n",
    " 'Muslim ST Quota',\n",
    " 'Muslim Women Quota',\n",
    " 'Muslim Minority Quota',\n",
    " 'Internal Puducherry UT Domicile',\n",
    " 'Jain Minority Quota',\n",
    " 'Delhi University Quota',\n",
    " 'Christian Minority Quota'\n",
    "]"
   ]
  },
  {
   "cell_type": "markdown",
   "metadata": {},
   "source": [
    "categories = ['Open',\n",
    " 'EWS',\n",
    " 'OBC',\n",
    " 'SC',\n",
    " 'ST',\n",
    " 'OBC PwD', \n",
    " 'Open PwD',\n",
    " 'SC PwD',\n",
    " 'EWS PwD',\n",
    " 'ST PwD'\n",
    "]"
   ]
  },
  {
   "cell_type": "code",
   "execution_count": 209,
   "metadata": {},
   "outputs": [],
   "source": [
    "colleges = df['Institute'].unique().tolist()"
   ]
  },
  {
   "cell_type": "code",
   "execution_count": 212,
   "metadata": {},
   "outputs": [
    {
     "name": "stdout",
     "output_type": "stream",
     "text": [
      "['AB Shetty Memorial Inst. of Dental Sce., Mangaluru,Deralakatte, Mangaluru, Dakshina Kannada, Karnataka, 575018', 'ACS Medical College and Hospital, Chennai,Periyar EVR High Raod, Velappanchavadi, Chennai-77, Tamil Nadu, 600077', 'ACSR Govt Medical College, Nellore,OPP TO AC SUBBA REDDY STADIUM DARGAMITTA\\r\\nNELLORE\\r\\nSPSR NELLORE DISTRICT, Andhra Pradesh, 524004', 'AGARTALA GOVT. MEDICAL COLLEGE,AGARTALA,Kunjaban, Agartala, Tripura West, Tripura, 799006', 'AIIMS Bathinda ,Jodhpur Romana near Giani Zail Singh College Mandi Dabwali Road Bathinda, Punjab, 151001', 'AIIMS Bilaspur Changar Palasiyan, Himachal Pradesh,All India Institute of Medical Sciences AIIMS\\r\\nKothipura Bilaspur Himachal Pradesh 174001, Himachal Pradesh, 174001', 'AIIMS Guahawti,PO-CHANGSARI, DISTRICT-KAMRUP, Assam, 781101', 'AIIMS Jammu,AIIMS Vijaypur Samba Jammu, Jammu And Kashmir, 18410', 'AIIMS Mangalagiri ,ALL INDIA INSTITUTE OF MEDICAL SCIENCES NEAR TADEPALLI\\r\\nMANGALAGIRI GUNTUR (Dt)\\r\\nANDHRA PRADESH, Andhra Pradesh, 522503', 'AIIMS Rajkot,Temporary Campus AIIMS Rajkot Opposite PMSSY building\\r\\nPDU MEdical college campus Civil hospital Ra, Gujarat, 360001', 'AIIMS, Bhubaneswar,AT - Sijua, POST - DUMUDUMA, BHUBANESWAR-751019,\\r\\nOdisha, 751019', 'AIIMS, Bibi Nagar, Hyderabad,AIIMS Bibinagar (Hyderabad Metropolitan Region) Telangana\\r\\n508126, Telangana, 508126', 'AIIMS, Deogarh ,PANCHAYAT TRAINING INSTITUTE DABURGRAM JASIDIH DEOGHAR JHARKHAND-814142 (AIIMS TEMPORARY CAMPUS)', 'AIIMS, Gorakhpur ,AIIMS Gorakhpur, Medical College Building, Kunraghat, Gorakhpur, Uttar Pradesh, 273008', 'AIIMS, Jodhpur,BASNI PHASE - II, JODHPUR-342005, Rajasthan, 342005', 'AIIMS, Kalyani,NH-34 Connector, Basantapur, Saguna, Kalyani, 741245, West Bengal, India, West Bengal, 741245', 'AIIMS, Madurai,AIIMS MADURAI, Tamil Nadu, 625008', 'AIIMS, Nagpur,PLOT NO 2 SECTOR 20 MIHAN NAGPUR, Maharashtra, 441108', 'AIIMS, New Delhi,AIIMS ANSARI NAGAR EAST AUROBINDO MARG NEW DELHI 110029, Delhi (NCT), 110029', 'AIIMS, Patna,Phulwarisharif, Patna-801507, Bihar, 801507', 'AIIMS, Rai Bareli ,All India Institute of Medical Sciences Raebareli, Uttar Pradesh, 229405', 'AIIMS, Raipur,Tatibandh, G E Road, Raipur Chhattisgarh, Pin - 492099, Chhattisgarh, 492099', 'AIIMS, Rishikesh ,ALL INDIA INSTITUTE OF MEDICAL SCIENCES, RISHIKESH\\r\\nUttarakhand - 249203, Uttarakhand, 249203', 'AIIMS-Bhopal,,SAKET NAGAR BHOPAL, Madhya Pradesh, 462020', 'ANUGRAH NARAYAN MAGADH MEDICAL COLLEGE, GAYA,SHERGHATIROAD, GAYA, Bihar, 823001', 'ASSAM MEDICAL COLLEGE, DIBRUGARH,Borbari, Dibrugarh, Assam, 786002', 'ATAL BIHARI VAJPAYEE GOVERNMENT MEDICAL COLLEGE, VIDISHA,NH 86 INFRONT OF KHEL PARISAR SANCHI ROAD VIDISHA, Madhya Pradesh, 464001', 'Aarupadai Veedu Medical College and Hospt., Puducherry,PONDY - CUDDALORE MAIN ROAD, KIRUMAMPAKKAM, BAHOUR COMMUNE PANCHAYAT, PUDUCHERRY, 607402', 'Amrita Institute of Medical Science, Kochi,Amrita School of Medicine Amrita Institute of Medical Sciences\\r\\nAIMS Ponekkara P.O Kochi, Kerala, 682041', 'Amrita School of Dentistry, Kochi,Amrita School of Dentistry, Amrita Institute of Medical Sciences (AIMS), AIMS Ponekkara P.O, Kochi, Kerala, 682041', 'Andaman and Nicobar Islands Institute of Medical S,Director ANIIMS, DHS Annexe Building, Atlanta Point, Port Blair-744104, Andaman And Nicobar Islands, 744104', 'Andhra Medical College, Visakhapatnam,MAHARANI PETA NEAR COLLECTORATE\\r\\nKGH CAMPUS\\r\\nVISAKHAPATNAM, Andhra Pradesh, 530002', 'Atal Bihari Vajpayee Institute of Medical Sciences & DR RML HOSPITAL, NEW DELHI,Post Graduate Institute of Medical Education and Research, Dr. RML Hospital,\\r\\nB.K.S. Marg, New Delhi, Delhi (NCT), 110001', 'Autonomous State Medical College , Fatehpur,Autonomous State Medical College Village chittaura near Allipur GT road fatehpur, Uttar Pradesh, 212601', 'Autonomous State Medical College ,Etah,NAGLA PADIHAR SIRAO MAHARARA LINK, PAC ROAD, SAKEET, ETAH,U.P.- 207001, Uttar Pradesh, 207001', 'Autonomous State Medical College Society , Mirzapur,Piparadarh, Visunderpur, Uttar Pradesh, 231001', 'Autonomous State Medical College, Ghazipur,Principal Prashasnik Bhawan\\r\\nMV Autonomous State Medical College RTI Chauraha\\r\\nGhazipur, Uttar Pradesh, 233001', 'Autonomous State Medical College, Pratapgarh,Pure Keshav Rai Gay Ghat Road Pratapgarh, Uttar Pradesh, 230001', 'Autonomous State Medical College, Siddharthnagar,Autonomous State Medical College Siddharthnagar\\r\\n71 Ashok Marg Village Mudila Naugarh Uttar Prade, Uttar Pradesh, 272207', 'Autonomous State Medical college Society Hardoi,Gaura Danda, Gopamau, Sitapur Road, Hardoi, Uttar Pradesh, 241001', 'B.J. MEDICAL COLLEGE, AHMEDABAD,B J Medical College, New Civil Hospital Campus, Asarwa, Ahmedabad 380016, Gujarat, 380016', 'B.L.D.E University, Bijapur,SMT BANGARAMMA SAJJAN CAMPUS B M PATIL ROAD VIJAYAPURA KARNATAKA, Karnataka, 586103', 'B.R.D. MEDICAL COLLEGE, GORAKHPUR,MAHARAJGANJ ROAD,GORAKHPUR, Uttar Pradesh, 273013', 'BAHIRAMJEE JIJIBHAI MEDICAL COLLGE, PUNE,Sassoon Hospital Compound, Near Pune Railway station J.P. Narayan Road, Pune, Maharashtra, 411001', 'BANKURA SAMMILANI MED COLL,BANKURA,Principal, Bankura Sammilani Medical College, Lokepur, PO- Kenduadihi, Bankura, Pin- 722102, West Bengal, 722102', 'BELGAUM INST. OF MEDICAL SCI., BELGAUM,DR B R AMBEDKAR ROAD\\r\\nBELAGAVI., Karnataka, 590001', 'BHAARATH MEDICAL COLLEGE AND HOSPITAL,173, AGARAM MAIN ROAD , SELAIYUR, TAMBARAM CHENNAI - 600073, Tamil Nadu, 600073', 'BIDAR INSTITUTE OF MEDICAL SCI.,  BIDAR,BIDAR INSTITUTE OF MEDICAL SCIENCES BIDAR\\r\\nUDGIR ROAD\\r\\nBIDAR, Karnataka, 585401', 'BPS Govt. Med. College, Sonepat,BPS GOVT MEDICAL COLLEGE FOR WOMEN\\r\\nKHANPUR KALAN SONEPAT, Haryana, 131305 (Female Seat only )', 'BUNDELKHAND MEDICAL COLLEGE, SAGAR,Shivaji ward, tili Road, Sagar, Madhya Pradesh, 470001', 'BURDWAN MEDICAL COLLEGE,BURDWAN,BURDWAN MEDICAL COLLEGE, BABURBAG, POST- RAJBATI, DIST- PURBA BARDHAMAN, PIN-713104,WEST\\r\\nBENGAL, West Bengal, 713104', 'BV Deemed Uni. Med. College and Hos., Sangli,Sangli Miraj Road Wanlesswadi Sangli Maharashtra, Maharashtra, 416416', 'BVDU Dental College and Hospital, Navi Mumbai,Bharati Vidyapeeth Dental College and Hospital, Sec.7, Belapur Navi Mumbai., Maharashtra, 400614', 'BVDU Dental College and Hospital, Sangli,Sangli-Miraj Road, Wanlesswadi Sangli., Maharashtra, 416414', 'Bangalore Medical College and Research Institute,K R ROAD FORT BENGALURU, Karnataka, 560002', 'Barasat Government Medical College & Hospital, West Bengal,80 Jessore Road Banamalipur JL NO 80and Uttorhat JL no 78 Barasat North Twenty Four Parganas 700124, West Bengal, 700124', 'Bharati Vidyapeeth DU Dental College and Hospt., Pune,Bharati Vidyapeeth (Deemed to be University) Dental College and Hospital, Pune, Maharashtra, 411043', 'Bharati Vidyapeeth DU Medical College,Dhankawadi, Pune-Satara Road, Pune, Maharashtra, 411043', 'Bhima Bhoi Medical College and Hospital , Balangir,PO - Rajendra College, District- Balangir, Odisha., Odisha, 767002', 'Burdwan Dental College & Hospital, Burdwan,POWER HOUSE PARA, BURDWAN TOWN.\\r\\nPURBA BARDHAMAN. W.B- 713101', 'C. Institute of Medical Sciences, Chamarajanagar,SY NO.124, YEDAPURA VILLAGE , KASABA HOBLI, CHAMARAJANAGARA TALUK AND DISTRICT', 'CALCUTTA NATIONAL MED COLL,KOLKATA,32, GORACHAND ROAD, PARK CIRCUS, KOLKATA - 700014, West Bengal, 700014', 'CHENGALPATTU MEDICAL COLL,CHENGALPATTU,GST ROAD, CHENGALPATTU-603 001\\r\\nKANCHEEPURAM DISTRICT, Tamil Nadu, 603001', 'CHHATTISGARH INSTITUTE OF MEDICAL SCIENCES, BILASP,GOND PARA, SADAR BAZAAR BILASPUR - 495001 (CG), Chhattisgarh, 495001', 'CHIKKABALLAPURA INSTITUTE OF MEDICAL SCIENCES, KARNATAKA,DISTRICT HOSPITAL CAMPUS MARULA SIDDESHWARA SWAMY TEMPLE ROAD CHIKKABALLAPUR KARANATAKA, Karnataka, 562101', 'COIMBATORE MEDICAL COLLEGE,COIMBATORE,CIVIL AERODROME POST, AVINASHI ROAD, PEELAMEDU, COIMBATORE, Tamil Nadu, 641014', 'COLLEGE OF MEDICINE and JNM HOSPITAL, KALYANI,A BlockPS- KalyaniDistrict - Nadia,West Bengal,Pin 741235', 'Chettinad Hos. and Res. Inst., Kancheepuram,Rajiv Gandhi Salai, Kelambakkam, Chengalpattu District, Tamil Nadu, 603103', 'Chhindwara Institute of Medical Sciences,Teachers Colony, Chhindwara, Madhya Pradesh 480001, Madhya Pradesh, 480001', 'Chikkamagaluru Institute of Medical Sciences,DIRECTOR CHIKKAMAGALURU INSTITUTE OF MEDICAL SCIENCES ARALAGUPPE MALLEGOWDA DISTRICT HOSPITAL\\r\\nAZA, Karnataka, 577101', 'College of Nursing BHU, VARANASI,The Director Institute of Medical Sciences Banaras Hindu University, Uttar Pradesh, 221005', 'College of Nursing Dr. RML Hospital, New Delhi,Baba Kharak Singh Marg College of Nursing Dr RML Hospital, Delhi (NCT), 110001 (Female Seat only )', 'College of Nursing Florence Nightingale CON, New Delhi,collegeofnursinggtbh@gmail.com, Delhi (NCT), 110095 (Female Seat only )', 'College of Nursing Kasturba Hospital, Delhi,College of Nursing Kasturba Hospital Daryganj, Delhi, Delhi (NCT), 110002', 'College of Nursing LHMC, New Delhi,College of Nursing Lady Hardinge Medical College & Associated Hospitals New Delhi, Delhi (NCT), 110001 (Female Seat only )', 'College of Nursing RAK CON, New Delhi,Rajkumari Amrit Kaur College of Nursing Lajpat Nagar IV Near Moolchand Metro Station, Delhi (NCT), 110024 (Female Seat only )', 'College of Nursing Safdarjung Hospital, New Delhi,College of Nursing VMMC and Safdarjang Hospital New Delhi, Delhi (NCT), 110029 (Female Seat only )', 'DATTA MEGHE MEDICAL COLLEGE WANADONGRI HINGNA NAGPUR,Hinaga\\r\\nRoad Wanadongri Nagpur Maharashtra India, Maharashtra, 441110', 'DC, RIMS, Imphal,PO Lamphelpat, Imphal West District, Manipur, 795004', 'DR. R. AHMED DENT.COLL & HOSP,KOLKATA,114 AJC BOSE ROAD', 'DR. VAISHAMPAYAM MEMORIAL M.C.,SHOLAPUR,In Front of District Civil Court, Solapur., Maharashtra, 413003', 'DR.RAJENDRA PRASAD MC, TANDA,Dr.Rajendra Prasad Govt.Medical College Kangra at Tanda, H.P., Himachal Pradesh, 176002', 'DR.S.C.GOVT MEDICAL COLLEGE,,NANDED,VISHNUPURI NANDED MAHARASHTRA 431606, Maharashtra, 431606', 'DR.S.N. MEDICAL COLLEGE, JODHPUR,RESIDENCY ROAD SHASTRI NAGAR JODHPUR RAJASTHAN 342 003, Rajasthan, 342003', 'Darbhanga Medical College, Laheriasarai,Sheetal Prasad Marg, Laheriasarai, Darbhanga, Bihar, 846003', 'Deben Mahata Government Medical College & Hospital,Vill  Hatuara PO  Vivekananda Nagar  PS  Purulia Muffasil Dist  Purulia  Pin 723147, West Bengal, 723147', 'Dental Institue, RIMS, Ranchi,Dental College, Rajendra Institute of Medical Sciences, Bariatu, Ranchi, Jharkhand, 843009', 'Diamond Harbour Govt Medical College,New Town, Post-Diamond Harbour, PS- Diamond Harbour, District South 24 Parganas, West Bengal, 743331', 'Diphu Medical College & Hospital, Assam,principaldiphu1@gmail.com, Assam, 782462', 'Dr Ram Manohar Lohia Inst. of Med. Sce., Lucknow,Vibhuti Khand Gomti Nagar\\r\\nLucknow, Uttar Pradesh, 226010', 'Dr. B.R. Ambedkar State Institute of Medical Sciences ,Sector 56 Mohali, Punjab, 160055', 'Dr. B.S.A. Medical College, Delhi,DR.BABA SAHEB AMBEDKAR MEDICAL COLLEGE,\\r\\nROHINI SEC-6, DELHI-110085, Delhi (NCT), 110085', 'Dr. DY Patil Dental College and Hosp. Navi Mumbai,Dr. D. Y. Patil Vidyanagar, Sector 7,\\r\\nNerul, Navi Mumbai, Maharashtra, 400706', 'Dr. DY Patil Dental College and Hosp. Pune,Mahesh Nagar, Pimpri, Pune - 411018, Maharashtra, 411018', 'Dr. DY Patil Medical College and Hospt., Pune,Mahesh  Nagar, Pimpri, Pune - 411 018, Maharashtra, 411018', 'Dr. DY Patil Medical College, Navi Mumbai,Plot No. 2, Sector 7, Nerul, Navi Mumbai, Maharashtra, Maharashtra, 400706', 'Dr. DYP Edu. Soc. Deemed Uni., Kolhapur,869, E Ward, D. Y. Patil Vidyanagar, Kasaba Bavada, Kolhapur 416006, Maharashtra, 416006', 'Dr. YS Parmar Govt. Medical College, Nahan,Nahan, District Sirmaur, Himachal Pradesh, Himachal Pradesh, 173001', 'Dr. Ziauddin Ahmed Dental College and Hospital,ALIGARH,ALIGARH MUSLIM UNIVERSITY, ALIGARH, Uttar Pradesh, 202002', 'Dr.Radhakrishnan Government Medical College, Hamirpur, Agriculture Colony, Hamirpur, Himachal Pradesh 177001']\n"
     ]
    }
   ],
   "source": [
    "print(colleges[:100])"
   ]
  },
  {
   "cell_type": "code",
   "execution_count": null,
   "metadata": {},
   "outputs": [],
   "source": []
  }
 ],
 "metadata": {
  "kernelspec": {
   "display_name": "Python 3",
   "language": "python",
   "name": "python3"
  },
  "language_info": {
   "codemirror_mode": {
    "name": "ipython",
    "version": 3
   },
   "file_extension": ".py",
   "mimetype": "text/x-python",
   "name": "python",
   "nbconvert_exporter": "python",
   "pygments_lexer": "ipython3",
   "version": "3.11.2"
  }
 },
 "nbformat": 4,
 "nbformat_minor": 2
}
