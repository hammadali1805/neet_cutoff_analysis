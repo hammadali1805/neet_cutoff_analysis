{
 "cells": [
  {
   "cell_type": "code",
   "execution_count": 1,
   "metadata": {},
   "outputs": [],
   "source": [
    "import pandas as pd\n",
    "import numpy as np"
   ]
  },
  {
   "cell_type": "code",
   "execution_count": 2,
   "metadata": {},
   "outputs": [],
   "source": [
    "df = pd.read_csv(\"2023/C_R3.csv\")"
   ]
  },
  {
   "cell_type": "code",
   "execution_count": 3,
   "metadata": {},
   "outputs": [
    {
     "data": {
      "text/html": [
       "<div>\n",
       "<style scoped>\n",
       "    .dataframe tbody tr th:only-of-type {\n",
       "        vertical-align: middle;\n",
       "    }\n",
       "\n",
       "    .dataframe tbody tr th {\n",
       "        vertical-align: top;\n",
       "    }\n",
       "\n",
       "    .dataframe thead th {\n",
       "        text-align: right;\n",
       "    }\n",
       "</style>\n",
       "<table border=\"1\" class=\"dataframe\">\n",
       "  <thead>\n",
       "    <tr style=\"text-align: right;\">\n",
       "      <th></th>\n",
       "      <th>Allotted Institute R3</th>\n",
       "      <th>Course R3</th>\n",
       "      <th>Allotted Quota R3</th>\n",
       "      <th>Alloted Category R3</th>\n",
       "      <th>Rank</th>\n",
       "    </tr>\n",
       "  </thead>\n",
       "  <tbody>\n",
       "    <tr>\n",
       "      <th>0</th>\n",
       "      <td>AB\\nShetty Memorial Inst. of Dental Sce., Mang...</td>\n",
       "      <td>BDS</td>\n",
       "      <td>Deemed/ Paid Seats Quota</td>\n",
       "      <td>Open</td>\n",
       "      <td>863428.0</td>\n",
       "    </tr>\n",
       "    <tr>\n",
       "      <th>1</th>\n",
       "      <td>ACS\\nMedical College and Hospital, Chennai, Pe...</td>\n",
       "      <td>MBBS</td>\n",
       "      <td>Deemed/ Paid Seats Quota</td>\n",
       "      <td>Open</td>\n",
       "      <td>1218878.0</td>\n",
       "    </tr>\n",
       "    <tr>\n",
       "      <th>2</th>\n",
       "      <td>ACS\\nMedical College and Hospital, Chennai, Pe...</td>\n",
       "      <td>MBBS</td>\n",
       "      <td>Non- Resident Indian</td>\n",
       "      <td>Open</td>\n",
       "      <td>739835.0</td>\n",
       "    </tr>\n",
       "    <tr>\n",
       "      <th>3</th>\n",
       "      <td>ACSR\\nGovt Medical College, Nellore,O PP TO AC...</td>\n",
       "      <td>MBBS</td>\n",
       "      <td>All India</td>\n",
       "      <td>EWS</td>\n",
       "      <td>22772.0</td>\n",
       "    </tr>\n",
       "    <tr>\n",
       "      <th>4</th>\n",
       "      <td>ACSR\\nGovt Medical College, Nellore,O PP TO AC...</td>\n",
       "      <td>MBBS</td>\n",
       "      <td>All India</td>\n",
       "      <td>OBC</td>\n",
       "      <td>20987.0</td>\n",
       "    </tr>\n",
       "  </tbody>\n",
       "</table>\n",
       "</div>"
      ],
      "text/plain": [
       "                               Allotted Institute R3 Course R3  \\\n",
       "0  AB\\nShetty Memorial Inst. of Dental Sce., Mang...       BDS   \n",
       "1  ACS\\nMedical College and Hospital, Chennai, Pe...      MBBS   \n",
       "2  ACS\\nMedical College and Hospital, Chennai, Pe...      MBBS   \n",
       "3  ACSR\\nGovt Medical College, Nellore,O PP TO AC...      MBBS   \n",
       "4  ACSR\\nGovt Medical College, Nellore,O PP TO AC...      MBBS   \n",
       "\n",
       "          Allotted Quota R3 Alloted Category R3       Rank  \n",
       "0  Deemed/ Paid Seats Quota                Open   863428.0  \n",
       "1  Deemed/ Paid Seats Quota                Open  1218878.0  \n",
       "2      Non- Resident Indian                Open   739835.0  \n",
       "3                 All India                 EWS    22772.0  \n",
       "4                 All India                 OBC    20987.0  "
      ]
     },
     "execution_count": 3,
     "metadata": {},
     "output_type": "execute_result"
    }
   ],
   "source": [
    "df.head()"
   ]
  },
  {
   "cell_type": "code",
   "execution_count": 4,
   "metadata": {},
   "outputs": [],
   "source": [
    "df_filtered = df[(df['Course R3'] == 'MBBS') & (df['Alloted Category R3'] == 'Open') & (df['Allotted Quota R3'].isin(['All India', 'Open Seat Quota']))]"
   ]
  },
  {
   "cell_type": "code",
   "execution_count": 5,
   "metadata": {},
   "outputs": [],
   "source": [
    "df_filtered = df_filtered.sort_values('Rank')"
   ]
  },
  {
   "cell_type": "code",
   "execution_count": 6,
   "metadata": {},
   "outputs": [],
   "source": [
    "df_filtered.to_csv('my_list_3.csv')"
   ]
  },
  {
   "cell_type": "code",
   "execution_count": null,
   "metadata": {},
   "outputs": [],
   "source": []
  }
 ],
 "metadata": {
  "kernelspec": {
   "display_name": "Python 3",
   "language": "python",
   "name": "python3"
  },
  "language_info": {
   "codemirror_mode": {
    "name": "ipython",
    "version": 3
   },
   "file_extension": ".py",
   "mimetype": "text/x-python",
   "name": "python",
   "nbconvert_exporter": "python",
   "pygments_lexer": "ipython3",
   "version": "3.11.2"
  }
 },
 "nbformat": 4,
 "nbformat_minor": 2
}
